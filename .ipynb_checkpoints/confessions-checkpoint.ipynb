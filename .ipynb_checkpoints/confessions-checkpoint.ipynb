{
 "cells": [
  {
   "cell_type": "markdown",
   "metadata": {},
   "source": [
    "Import required libraries:"
   ]
  },
  {
   "cell_type": "code",
   "execution_count": 143,
   "metadata": {
    "collapsed": true
   },
   "outputs": [],
   "source": [
    "import requests\n",
    "import json\n",
    "import os\n",
    "import pandas as pd"
   ]
  },
  {
   "cell_type": "markdown",
   "metadata": {},
   "source": [
    "### Set SCRAPE=True in order to download the data from FB"
   ]
  },
  {
   "cell_type": "code",
   "execution_count": 144,
   "metadata": {
    "collapsed": true
   },
   "outputs": [],
   "source": [
    "SCRAPE = False"
   ]
  },
  {
   "cell_type": "markdown",
   "metadata": {},
   "source": [
    "Define a function to return an empty list if string is not JSON formatted:"
   ]
  },
  {
   "cell_type": "code",
   "execution_count": 145,
   "metadata": {
    "collapsed": true
   },
   "outputs": [],
   "source": [
    "def read_json(path):\n",
    "    try:\n",
    "        return json.loads(open(path, \"r\").read())\n",
    "    except json.decoder.JSONDecodeError:\n",
    "        return []"
   ]
  },
  {
   "cell_type": "markdown",
   "metadata": {},
   "source": [
    "Try to read \"posts.json\". If it does not exist, create it."
   ]
  },
  {
   "cell_type": "code",
   "execution_count": 146,
   "metadata": {},
   "outputs": [],
   "source": [
    "try:\n",
    "    posts = read_json(\"posts.json\")\n",
    "except FileNotFoundError:\n",
    "    f = open(\"posts.json\", \"w\")\n",
    "    f.close\n",
    "    posts = []"
   ]
  },
  {
   "cell_type": "markdown",
   "metadata": {},
   "source": [
    "Create a supplemental function to simplify API "
   ]
  },
  {
   "cell_type": "code",
   "execution_count": 147,
   "metadata": {
    "collapsed": true
   },
   "outputs": [],
   "source": [
    "def get(url_):\n",
    "    return json.loads(requests.get(url_).text)\n",
    "\n",
    "def post_exists(post_id):\n",
    "    return len(list(filter(lambda x: x['id'] == post_id, posts))) > 0"
   ]
  },
  {
   "cell_type": "markdown",
   "metadata": {},
   "source": [
    "Define gruop ID variables:"
   ]
  },
  {
   "cell_type": "code",
   "execution_count": 148,
   "metadata": {
    "collapsed": true
   },
   "outputs": [],
   "source": [
    "TECHNION_CONFESSIONS_ID = \"134517547222780\"\n",
    "TAU_CONFESSIONS_ID = \"561380070875128\"\n",
    "IDC_CONFESSIONS_ID = \"199527394120566\""
   ]
  },
  {
   "cell_type": "markdown",
   "metadata": {},
   "source": [
    "Authenticate to Graph API:"
   ]
  },
  {
   "cell_type": "code",
   "execution_count": 149,
   "metadata": {
    "collapsed": true
   },
   "outputs": [],
   "source": [
    "# TOKEN = \"EAACEdEose0cBAEIYEOmJ51kfOHPinwL2ychqVpFT0D9ezMjfe1pMKyH0lP2ZA9RuZBH3wQeJ0EfEboHEqDqy7Gq8PSjIcHgNv1lRyC3ZBMk0CdbdzWckHsqNTRatwPZBvkMBfic2P1jwg5vZAZCHKbHdvFfMjjsHGjeVsY7AqEbpWiUBEb0d1zsKJgJwQw3wTWs6ZBb4WSOOQZDZD\"\n",
    "\n",
    "s = \"6cc937f2a9dbc9df92600f365c777d1a\"\n",
    "i = \"652869818252649\"\n",
    "u = \"https://graph.facebook.com/oauth/access_token?client_id={id}&client_secret={secret}&grant_type=client_credentials\"\n",
    "\n",
    "TOKEN = get(u.format(id=i, secret=s))['access_token']"
   ]
  },
  {
   "cell_type": "markdown",
   "metadata": {},
   "source": [
    "Setup Graph API host and API node:"
   ]
  },
  {
   "cell_type": "code",
   "execution_count": 150,
   "metadata": {
    "collapsed": true
   },
   "outputs": [],
   "source": [
    "HOST = \"https://graph.facebook.com/\"\n",
    "API_NODE = \"v2.12/\""
   ]
  },
  {
   "cell_type": "markdown",
   "metadata": {},
   "source": [
    "Declare custom node - in this case, the 'Technion Confessions' group feed:"
   ]
  },
  {
   "cell_type": "code",
   "execution_count": 151,
   "metadata": {
    "collapsed": true
   },
   "outputs": [],
   "source": [
    "TECHNION_CONFESSIONS_NODE = \"{}/feed\".format(TECHNION_CONFESSIONS_ID)\n",
    "TAU_CONFESSIONS_NODE = \"{}/feed\".format(TAU_CONFESSIONS_ID)\n",
    "IDC_CONFESSIONS_NODE = \"{}/feed\".format(IDC_CONFESSIONS_ID)\n",
    "\n",
    "PAGES = [\n",
    "    (TECHNION_CONFESSIONS_NODE, \"TECHNION\"),\n",
    "    (TAU_CONFESSIONS_NODE, \"TAU\"),\n",
    "    (IDC_CONFESSIONS_NODE, \"IDC\"),\n",
    "]"
   ]
  },
  {
   "cell_type": "markdown",
   "metadata": {},
   "source": [
    "Build the requested URL - should be the same for the most of the calls:"
   ]
  },
  {
   "cell_type": "code",
   "execution_count": 152,
   "metadata": {},
   "outputs": [],
   "source": [
    "def build_url(node):\n",
    "    return HOST + API_NODE + node + \"?access_token={}\".format(TOKEN)"
   ]
  },
  {
   "cell_type": "markdown",
   "metadata": {},
   "source": [
    "## ! Edit the algorithm to add new posts - aka continue from the last post on"
   ]
  },
  {
   "cell_type": "markdown",
   "metadata": {},
   "source": [
    "The main post scraping function:"
   ]
  },
  {
   "cell_type": "code",
   "execution_count": 153,
   "metadata": {
    "collapsed": true
   },
   "outputs": [],
   "source": [
    "def get_posts(url, origin):\n",
    "    res = get(url)\n",
    "    if 'data' in res:\n",
    "        for post in res['data']:\n",
    "            if not post_exists(post['id']):\n",
    "                post['origin'] = origin\n",
    "                posts.append(post)\n",
    "    if 'paging' in res:\n",
    "        if 'next' in res['paging']:\n",
    "            return get_posts(res['paging']['next'], origin)"
   ]
  },
  {
   "cell_type": "markdown",
   "metadata": {},
   "source": [
    "If SCRAPE, the script will fill \"posts.json\" with the posts:"
   ]
  },
  {
   "cell_type": "code",
   "execution_count": 154,
   "metadata": {},
   "outputs": [],
   "source": [
    "if SCRAPE:\n",
    "    for node, name in PAGES:\n",
    "        get_posts(build_url(node), name)\n",
    "    with open(\"posts.json\", \"w\") as f:\n",
    "        f.write(json.dumps(posts))"
   ]
  },
  {
   "cell_type": "markdown",
   "metadata": {},
   "source": [
    "Show the head of the posts table:"
   ]
  },
  {
   "cell_type": "code",
   "execution_count": 155,
   "metadata": {},
   "outputs": [
    {
     "data": {
      "text/html": [
       "<div>\n",
       "<style>\n",
       "    .dataframe thead tr:only-child th {\n",
       "        text-align: right;\n",
       "    }\n",
       "\n",
       "    .dataframe thead th {\n",
       "        text-align: left;\n",
       "    }\n",
       "\n",
       "    .dataframe tbody tr th {\n",
       "        vertical-align: top;\n",
       "    }\n",
       "</style>\n",
       "<table border=\"1\" class=\"dataframe\">\n",
       "  <thead>\n",
       "    <tr style=\"text-align: right;\">\n",
       "      <th></th>\n",
       "      <th>created_time</th>\n",
       "      <th>id</th>\n",
       "      <th>message</th>\n",
       "      <th>origin</th>\n",
       "      <th>story</th>\n",
       "    </tr>\n",
       "  </thead>\n",
       "  <tbody>\n",
       "    <tr>\n",
       "      <th>0</th>\n",
       "      <td>2018-02-12 08:15:17</td>\n",
       "      <td>1.345175e+29</td>\n",
       "      <td>#2273 הדבר שהכי מלחיץ אותי הוא הסמינר שאקח בסמ...</td>\n",
       "      <td>TECHNION</td>\n",
       "      <td>NaN</td>\n",
       "    </tr>\n",
       "    <tr>\n",
       "      <th>1</th>\n",
       "      <td>2018-02-12 08:14:31</td>\n",
       "      <td>1.345175e+29</td>\n",
       "      <td>#2272 סמסטר חורף קודם, ירדתי לכיוון נשר מאולמן...</td>\n",
       "      <td>TECHNION</td>\n",
       "      <td>NaN</td>\n",
       "    </tr>\n",
       "    <tr>\n",
       "      <th>2</th>\n",
       "      <td>2018-02-12 08:12:20</td>\n",
       "      <td>1.345175e+29</td>\n",
       "      <td>#2271 בדרך כלל אני בן אדם מאוד שמח, או שזה מה ...</td>\n",
       "      <td>TECHNION</td>\n",
       "      <td>NaN</td>\n",
       "    </tr>\n",
       "    <tr>\n",
       "      <th>3</th>\n",
       "      <td>2018-02-12 08:08:57</td>\n",
       "      <td>1.345175e+29</td>\n",
       "      <td>#2270 אני מוכן להיות אבא כבר מגיל 14. תמיד חלמ...</td>\n",
       "      <td>TECHNION</td>\n",
       "      <td>NaN</td>\n",
       "    </tr>\n",
       "    <tr>\n",
       "      <th>4</th>\n",
       "      <td>2018-02-12 08:07:29</td>\n",
       "      <td>1.345175e+29</td>\n",
       "      <td>#2269 אני בת 26 והדייט המושלם לדעתי הוא פשוט ל...</td>\n",
       "      <td>TECHNION</td>\n",
       "      <td>NaN</td>\n",
       "    </tr>\n",
       "  </tbody>\n",
       "</table>\n",
       "</div>"
      ],
      "text/plain": [
       "         created_time            id  \\\n",
       "0 2018-02-12 08:15:17  1.345175e+29   \n",
       "1 2018-02-12 08:14:31  1.345175e+29   \n",
       "2 2018-02-12 08:12:20  1.345175e+29   \n",
       "3 2018-02-12 08:08:57  1.345175e+29   \n",
       "4 2018-02-12 08:07:29  1.345175e+29   \n",
       "\n",
       "                                             message    origin story  \n",
       "0  #2273 הדבר שהכי מלחיץ אותי הוא הסמינר שאקח בסמ...  TECHNION   NaN  \n",
       "1  #2272 סמסטר חורף קודם, ירדתי לכיוון נשר מאולמן...  TECHNION   NaN  \n",
       "2  #2271 בדרך כלל אני בן אדם מאוד שמח, או שזה מה ...  TECHNION   NaN  \n",
       "3  #2270 אני מוכן להיות אבא כבר מגיל 14. תמיד חלמ...  TECHNION   NaN  \n",
       "4  #2269 אני בת 26 והדייט המושלם לדעתי הוא פשוט ל...  TECHNION   NaN  "
      ]
     },
     "execution_count": 155,
     "metadata": {},
     "output_type": "execute_result"
    }
   ],
   "source": [
    "df = pd.read_json(open(\"posts.json\", \"r\").read())\n",
    "df.head()"
   ]
  },
  {
   "cell_type": "code",
   "execution_count": 170,
   "metadata": {},
   "outputs": [
    {
     "data": {
      "text/html": [
       "<div>\n",
       "<style>\n",
       "    .dataframe thead tr:only-child th {\n",
       "        text-align: right;\n",
       "    }\n",
       "\n",
       "    .dataframe thead th {\n",
       "        text-align: left;\n",
       "    }\n",
       "\n",
       "    .dataframe tbody tr th {\n",
       "        vertical-align: top;\n",
       "    }\n",
       "</style>\n",
       "<table border=\"1\" class=\"dataframe\">\n",
       "  <thead>\n",
       "    <tr style=\"text-align: right;\">\n",
       "      <th></th>\n",
       "      <th>created_time</th>\n",
       "      <th>id</th>\n",
       "      <th>message</th>\n",
       "      <th>origin</th>\n",
       "      <th>story</th>\n",
       "      <th>reply_to</th>\n",
       "    </tr>\n",
       "  </thead>\n",
       "  <tbody>\n",
       "    <tr>\n",
       "      <th>0</th>\n",
       "      <td>2018-02-12 08:15:17</td>\n",
       "      <td>#2273</td>\n",
       "      <td>#2273 הדבר שהכי מלחיץ אותי הוא הסמינר שאקח בסמ...</td>\n",
       "      <td>TECHNION</td>\n",
       "      <td>NaN</td>\n",
       "      <td>NaN</td>\n",
       "    </tr>\n",
       "    <tr>\n",
       "      <th>1</th>\n",
       "      <td>2018-02-12 08:14:31</td>\n",
       "      <td>#2272</td>\n",
       "      <td>#2272 סמסטר חורף קודם, ירדתי לכיוון נשר מאולמן...</td>\n",
       "      <td>TECHNION</td>\n",
       "      <td>NaN</td>\n",
       "      <td>NaN</td>\n",
       "    </tr>\n",
       "    <tr>\n",
       "      <th>2</th>\n",
       "      <td>2018-02-12 08:12:20</td>\n",
       "      <td>#2271</td>\n",
       "      <td>#2271 בדרך כלל אני בן אדם מאוד שמח, או שזה מה ...</td>\n",
       "      <td>TECHNION</td>\n",
       "      <td>NaN</td>\n",
       "      <td>NaN</td>\n",
       "    </tr>\n",
       "    <tr>\n",
       "      <th>3</th>\n",
       "      <td>2018-02-12 08:08:57</td>\n",
       "      <td>#2270</td>\n",
       "      <td>#2270 אני מוכן להיות אבא כבר מגיל 14. תמיד חלמ...</td>\n",
       "      <td>TECHNION</td>\n",
       "      <td>NaN</td>\n",
       "      <td>NaN</td>\n",
       "    </tr>\n",
       "    <tr>\n",
       "      <th>4</th>\n",
       "      <td>2018-02-12 08:07:29</td>\n",
       "      <td>#2269</td>\n",
       "      <td>#2269 אני בת 26 והדייט המושלם לדעתי הוא פשוט ל...</td>\n",
       "      <td>TECHNION</td>\n",
       "      <td>NaN</td>\n",
       "      <td>NaN</td>\n",
       "    </tr>\n",
       "  </tbody>\n",
       "</table>\n",
       "</div>"
      ],
      "text/plain": [
       "         created_time     id  \\\n",
       "0 2018-02-12 08:15:17  #2273   \n",
       "1 2018-02-12 08:14:31  #2272   \n",
       "2 2018-02-12 08:12:20  #2271   \n",
       "3 2018-02-12 08:08:57  #2270   \n",
       "4 2018-02-12 08:07:29  #2269   \n",
       "\n",
       "                                             message    origin story reply_to  \n",
       "0  #2273 הדבר שהכי מלחיץ אותי הוא הסמינר שאקח בסמ...  TECHNION   NaN      NaN  \n",
       "1  #2272 סמסטר חורף קודם, ירדתי לכיוון נשר מאולמן...  TECHNION   NaN      NaN  \n",
       "2  #2271 בדרך כלל אני בן אדם מאוד שמח, או שזה מה ...  TECHNION   NaN      NaN  \n",
       "3  #2270 אני מוכן להיות אבא כבר מגיל 14. תמיד חלמ...  TECHNION   NaN      NaN  \n",
       "4  #2269 אני בת 26 והדייט המושלם לדעתי הוא פשוט ל...  TECHNION   NaN      NaN  "
      ]
     },
     "execution_count": 170,
     "metadata": {},
     "output_type": "execute_result"
    }
   ],
   "source": [
    "df[\"id\"] = df[\"message\"].str.findall(\"(#+\\d+){1}\").str.get(0)\n",
    "df[\"reply_to\"] = df[\"message\"].str.findall(\"(#+\\d+){1}\").str.get(1)\n",
    "df.head()"
   ]
  },
  {
   "cell_type": "markdown",
   "metadata": {},
   "source": [
    "Get the IDs"
   ]
  },
  {
   "cell_type": "markdown",
   "metadata": {},
   "source": [
    "Get ID of the posts that the post is replying to"
   ]
  },
  {
   "cell_type": "markdown",
   "metadata": {},
   "source": [
    "Get the posts likes"
   ]
  },
  {
   "cell_type": "markdown",
   "metadata": {},
   "source": [
    "Get the comments of the posts"
   ]
  },
  {
   "cell_type": "markdown",
   "metadata": {},
   "source": [
    "Get the likes for each comment"
   ]
  },
  {
   "cell_type": "markdown",
   "metadata": {},
   "source": [
    "Get the comments for each comment"
   ]
  },
  {
   "cell_type": "markdown",
   "metadata": {},
   "source": [
    "Get the name of the commenter (for each comment or reply)"
   ]
  },
  {
   "cell_type": "markdown",
   "metadata": {},
   "source": [
    "Get the commenter gender"
   ]
  }
 ],
 "metadata": {
  "kernelspec": {
   "display_name": "Python 3",
   "language": "python",
   "name": "python3"
  },
  "language_info": {
   "codemirror_mode": {
    "name": "ipython",
    "version": 3
   },
   "file_extension": ".py",
   "mimetype": "text/x-python",
   "name": "python",
   "nbconvert_exporter": "python",
   "pygments_lexer": "ipython3",
   "version": "3.6.3"
  }
 },
 "nbformat": 4,
 "nbformat_minor": 2
}
